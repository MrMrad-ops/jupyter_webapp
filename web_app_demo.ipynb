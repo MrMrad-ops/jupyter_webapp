{
 "cells": [
  {
   "cell_type": "code",
   "execution_count": 44,
   "id": "dec4aa4c",
   "metadata": {},
   "outputs": [],
   "source": [
    "import warnings\n",
    "warnings.filterwarnings('ignore')\n",
    "\n",
    "import ipywidgets as widgets\n",
    "from IPython.display import display, clear_output"
   ]
  },
  {
   "cell_type": "code",
   "execution_count": 29,
   "id": "722333ef",
   "metadata": {},
   "outputs": [],
   "source": [
    "#!jupyter nbextension enable --py widgetsnbextension --sys-prefix\n",
    "#!jupyter serverextension enable voila --sys-prefix"
   ]
  },
  {
   "cell_type": "code",
   "execution_count": 45,
   "id": "8c535932",
   "metadata": {},
   "outputs": [],
   "source": [
    "weight_widget = widgets.FloatText(description='Weight (kg)')\n",
    "height_widget = widgets.FloatText(description='Height (cm)')\n"
   ]
  },
  {
   "cell_type": "code",
   "execution_count": 53,
   "id": "e9d769d1",
   "metadata": {},
   "outputs": [
    {
     "data": {
      "application/vnd.jupyter.widget-view+json": {
       "model_id": "a38d6871f08449e8b8d62bee7bc98512",
       "version_major": 2,
       "version_minor": 0
      },
      "text/plain": [
       "FloatText(value=0.0, description='Weight (kg)')"
      ]
     },
     "metadata": {},
     "output_type": "display_data"
    },
    {
     "data": {
      "application/vnd.jupyter.widget-view+json": {
       "model_id": "702d5c132c7d4b5fb97ca0c058c7609d",
       "version_major": 2,
       "version_minor": 0
      },
      "text/plain": [
       "FloatText(value=0.0, description='Height (cm)')"
      ]
     },
     "metadata": {},
     "output_type": "display_data"
    }
   ],
   "source": [
    "display(weight_widget)\n",
    "display(height_widget)"
   ]
  },
  {
   "cell_type": "code",
   "execution_count": 54,
   "id": "62db0347",
   "metadata": {},
   "outputs": [],
   "source": [
    "def calculate_bmi(weight, height):\n",
    "    bmi = weight / (height/100)**2\n",
    "    return bmi\n"
   ]
  },
  {
   "cell_type": "code",
   "execution_count": 55,
   "id": "491ef0b4",
   "metadata": {},
   "outputs": [],
   "source": [
    "button = widgets.Button(description='Calculate BMI')\n"
   ]
  },
  {
   "cell_type": "code",
   "execution_count": 56,
   "id": "1ffe0ab0",
   "metadata": {},
   "outputs": [],
   "source": [
    "output = widgets.Output()"
   ]
  },
  {
   "cell_type": "code",
   "execution_count": 57,
   "id": "01de0e61",
   "metadata": {},
   "outputs": [],
   "source": [
    "def on_button_clicked(event):\n",
    "       with output:\n",
    "            clear_output()\n",
    "            weight = weight_widget.value\n",
    "            height = height_widget.value\n",
    "            bmi = calculate_bmi(weight, height)     \n",
    "            display(widgets.HTML(f'Your BMI is: {bmi:.2f}'))\n"
   ]
  },
  {
   "cell_type": "code",
   "execution_count": 58,
   "id": "ee01e2b7",
   "metadata": {},
   "outputs": [],
   "source": [
    "button.on_click(on_button_clicked)\n"
   ]
  },
  {
   "cell_type": "code",
   "execution_count": 59,
   "id": "1102e768",
   "metadata": {},
   "outputs": [],
   "source": [
    "vbox_result = widgets.VBox([button, output])"
   ]
  },
  {
   "cell_type": "code",
   "execution_count": 61,
   "id": "f1ef99be",
   "metadata": {},
   "outputs": [
    {
     "data": {
      "application/vnd.jupyter.widget-view+json": {
       "model_id": "b8514a491e984d87b00a4d811830b719",
       "version_major": 2,
       "version_minor": 0
      },
      "text/plain": [
       "Button(description='Calculate BMI', style=ButtonStyle())"
      ]
     },
     "metadata": {},
     "output_type": "display_data"
    }
   ],
   "source": [
    "display(button)"
   ]
  },
  {
   "cell_type": "code",
   "execution_count": 62,
   "id": "c504826b",
   "metadata": {},
   "outputs": [
    {
     "data": {
      "application/vnd.jupyter.widget-view+json": {
       "model_id": "08968aa6d73e4f6182db16731ad5859f",
       "version_major": 2,
       "version_minor": 0
      },
      "text/plain": [
       "Output()"
      ]
     },
     "metadata": {},
     "output_type": "display_data"
    }
   ],
   "source": [
    "display(output)"
   ]
  },
  {
   "cell_type": "code",
   "execution_count": null,
   "id": "1b35554d",
   "metadata": {},
   "outputs": [],
   "source": []
  }
 ],
 "metadata": {
  "kernelspec": {
   "display_name": "Python 3 (ipykernel)",
   "language": "python",
   "name": "python3"
  },
  "language_info": {
   "codemirror_mode": {
    "name": "ipython",
    "version": 3
   },
   "file_extension": ".py",
   "mimetype": "text/x-python",
   "name": "python",
   "nbconvert_exporter": "python",
   "pygments_lexer": "ipython3",
   "version": "3.10.9"
  }
 },
 "nbformat": 4,
 "nbformat_minor": 5
}
